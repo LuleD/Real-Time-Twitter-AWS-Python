{
 "cells": [
  {
   "cell_type": "markdown",
   "metadata": {},
   "source": [
    "# Real Time Processing - Part 1\n",
    "\n",
    "## Connecting to AWS Via Kinesis and streaming tweets through the Twitter API"
   ]
  },
  {
   "cell_type": "markdown",
   "metadata": {},
   "source": [
    "This notebook provides the necessary code to connect the Twitter Stream API to an AWS kinesis app\n",
    "\n",
    "To being with, we need to have:\n",
    "   - Your AWS Account Set up and AWS CLI installed and configured to your account\n",
    "   - Created an app on twitter developer, and have the below-mentioned credentials\n",
    "   - The boto3, TwitterAPI and tweepy libraries installed for Python"
   ]
  },
  {
   "cell_type": "markdown",
   "metadata": {},
   "source": [
    "Reading in Twitter Credentials"
   ]
  },
  {
   "cell_type": "code",
   "execution_count": 1,
   "metadata": {
    "collapsed": true
   },
   "outputs": [],
   "source": [
    "#Reading in twitter credentials\n",
    "consumer_key = \"XXXXXXXXXXXXXXXX\"\n",
    "consumer_secret = \"XXXXXXXXXXXXXXXXXXX\"\n",
    "access_token_key = \"XXXXXXXXXXXXXXx-XXXXXXXXXXXXXXXXXXXX\"\n",
    "access_token_secret = \"XXXXXXXXXXXXXXXXXXXXXXXXXXXXXXXXX\""
   ]
  },
  {
   "cell_type": "markdown",
   "metadata": {},
   "source": [
    "Creating a Kinesis Stream using the boto3 library. The stream will automatically created with the below streamname in the AWS console"
   ]
  },
  {
   "cell_type": "code",
   "execution_count": 25,
   "metadata": {
    "collapsed": true
   },
   "outputs": [],
   "source": [
    "#creating the kinesis stream\n",
    "import boto3\n",
    "\n",
    "client = boto3.client('kinesis')\n",
    "response = client.create_stream(\n",
    "   StreamName='twitter_bigdata', #your streamname here\n",
    "   ShardCount=1\n",
    ")"
   ]
  },
  {
   "cell_type": "markdown",
   "metadata": {},
   "source": [
    "Connecting the API to kinesis streams. The kinesis streams app should already be set up in the AWS console. The data will be streamed in a JSON format through the Twitter API\n",
    "\n",
    "The API filter can also be set. The commented out options have been tested"
   ]
  },
  {
   "cell_type": "code",
   "execution_count": null,
   "metadata": {
    "collapsed": true
   },
   "outputs": [],
   "source": [
    "#importing the necessary packages\n",
    "from TwitterAPI import TwitterAPI\n",
    "import json\n",
    "import boto3\n",
    "#import twitterCreds\n",
    "\n",
    "\n",
    "#accessing the API\n",
    "api = TwitterAPI(consumer_key, consumer_secret, access_token_key, access_token_secret)\n",
    "\n",
    "kinesis = boto3.client('kinesis')\n",
    "\n",
    "r = api.request('statuses/filter', {'follow':'629747990'})\n",
    "\n",
    "#for locations\n",
    "#r = api.request('statuses/filter', {'locations':'-90,-90,90,90'})\n",
    "#for userids @abcdef:\n",
    "#r = api.request('statuses/filter', {'follow':'123456'})\n",
    "#for general text searches\n",
    "#r = api.request('statuses/filter', {'track':'iphone'})\n",
    "\n",
    "\n",
    "\n",
    "for item in r:\n",
    "    kinesis.put_record(StreamName=\"twitter_bigdata\", Data=json.dumps(item), PartitionKey=\"filler\")"
   ]
  },
  {
   "cell_type": "markdown",
   "metadata": {},
   "source": [
    "A script to test the Kinesis Stream output.The json outputs will be displayed below"
   ]
  },
  {
   "cell_type": "code",
   "execution_count": null,
   "metadata": {
    "collapsed": true
   },
   "outputs": [],
   "source": [
    "import boto3\n",
    "import time\n",
    "import json\n",
    "## aws creds are stored in ~/.boto\n",
    "kinesis = boto3.client(\"kinesis\")\n",
    "shard_id = \"shardId-000000000000\" #only one shard!\n",
    "pre_shard_it = kinesis.get_shard_iterator(StreamName=\"twitter\", ShardId=shard_id, ShardIteratorType=\"LATEST\")\n",
    "shard_it = pre_shard_it[\"ShardIterator\"]\n",
    "while 1==1:\n",
    "     out = kinesis.get_records(ShardIterator=shard_it, Limit=1)\n",
    "     shard_it = out[\"NextShardIterator\"]\n",
    "     print out;\n",
    "     time.sleep(1.0)"
   ]
  }
 ],
 "metadata": {
  "kernelspec": {
   "display_name": "Python 2",
   "language": "python",
   "name": "python2"
  },
  "language_info": {
   "codemirror_mode": {
    "name": "ipython",
    "version": 2
   },
   "file_extension": ".py",
   "mimetype": "text/x-python",
   "name": "python",
   "nbconvert_exporter": "python",
   "pygments_lexer": "ipython2",
   "version": "2.7.14"
  }
 },
 "nbformat": 4,
 "nbformat_minor": 2
}
